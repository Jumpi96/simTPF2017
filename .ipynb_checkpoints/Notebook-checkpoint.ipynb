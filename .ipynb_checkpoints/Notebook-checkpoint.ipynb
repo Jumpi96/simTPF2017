{
 "cells": [
  {
   "cell_type": "markdown",
   "metadata": {},
   "source": [
    "# Trabajo Práctico Final - Simulación #"
   ]
  },
  {
   "cell_type": "code",
   "execution_count": 3,
   "metadata": {
    "collapsed": false
   },
   "outputs": [],
   "source": [
    "from Simulacion import *\n",
    "from os import environ\n",
    "from IPython.display import HTML\n",
    "from IPython.display import display\n",
    "import matplotlib.pyplot as plt\n",
    "pd.set_option('display.max_columns', None)\n",
    "#pd.set_option('display.max_rows',None)\n"
   ]
  },
  {
   "cell_type": "markdown",
   "metadata": {},
   "source": [
    "## Modelo de simulación ##\n",
    "El modelo consta de los siguientes objetos:\n",
    "* Grúa {Viajando a P1, Viajando a P2, Cargando P1, Cargando P2}\n",
    "* Auto\n",
    "\n",
    "Además, tenemos los siguientes eventos:\n",
    "* Llegada auto P1\n",
    "* Llegada auto P2\n",
    "* Llegada a P1\n",
    "* Llegada a P2\n",
    "* Fin carga P1\n",
    "* Fin carga P2\n",
    "* Abandono\n",
    "\n"
   ]
  },
  {
   "cell_type": "markdown",
   "metadata": {},
   "source": [
    "## Parámetros e interfaz ##"
   ]
  },
  {
   "cell_type": "code",
   "execution_count": 8,
   "metadata": {
    "collapsed": true
   },
   "outputs": [],
   "source": [
    "p_precio_auto_a = environ['p_precio_auto_a']\n",
    "p_precio_auto_b = environ['p_precio_auto_b']\n",
    "p_precio_abandono_a = environ['p_precio_abandono_a']\n",
    "p_precio_abandono_b = environ['p_precio_abandono_b']\n",
    "p_costo_grua_a = environ['p_costo_grua_a']\n",
    "p_costo_grua_b = environ['p_costo_grua_b']\n",
    "p_tiempo_grua_a = environ['p_tiempo_grua_a']\n",
    "p_tiempo_grua_b = environ['p_tiempo_grua_b']\n",
    "p_capac_grua_a = environ['p_capac_grua_a']\n",
    "p_capac_grua_b = environ['p_capac_grua_b']\n",
    "p_serv_min_a = environ['p_serv_min_a']\n",
    "p_serv_min_b = environ['p_serv_min_b']\n",
    "p_tiempo = environ['p_tiempo']\n",
    "p_mostrar_desde = environ['p_mostrar_desde']\n",
    "p_iteraciones = environ['p_iteraciones']"
   ]
  },
  {
   "cell_type": "code",
   "execution_count": 4,
   "metadata": {
    "collapsed": true
   },
   "outputs": [],
   "source": [
    "def View(df):\n",
    "    css = \"\"\"<style>\n",
    "    table { border-collapse: collapse; border: 3px solid #eee; }\n",
    "    table tr th:first-child { background-color: #eeeeee; color: #333; font-weight: bold }\n",
    "    table thead th { background-color: #eee; color: #000; }\n",
    "    tr, th, td { border: 1px solid #ccc; border-width: 1px 0 0 1px; border-collapse: collapse;\n",
    "    padding: 3px; font-family: monospace; font-size: 10px }</style>\n",
    "    \"\"\"\n",
    "    s  = '<script type=\"text/Javascript\">'\n",
    "    s += 'var win = window.open(\"\", \"Title\", \"toolbar=no, location=no, directories=no, status=no, menubar=no, scrollbars=yes, resizable=yes, width=780, height=200, top=\"+(screen.height-400)+\", left=\"+(screen.width-840));'\n",
    "    s += 'win.document.body.innerHTML = \\'' + (df.to_html() + css).replace(\"\\n\",'\\\\') + '\\';'\n",
    "    s += '</script>'\n",
    "    return(HTML(s+css))"
   ]
  },
  {
   "cell_type": "markdown",
   "metadata": {},
   "source": [
    "## Simulación - Opción A##"
   ]
  },
  {
   "cell_type": "markdown",
   "metadata": {},
   "source": [
    "En el ejercicio original, implica esperar a completar la grúa antes de empezar el traslado."
   ]
  },
  {
   "cell_type": "code",
   "execution_count": 4,
   "metadata": {
    "collapsed": false,
    "scrolled": true
   },
   "outputs": [
    {
     "ename": "NameError",
     "evalue": "name 'txt_demora_media' is not defined",
     "output_type": "error",
     "traceback": [
      "\u001b[0;31m---------------------------------------------------------------------------\u001b[0m",
      "\u001b[0;31mNameError\u001b[0m                                 Traceback (most recent call last)",
      "\u001b[0;32m<ipython-input-4-ca694071f0dc>\u001b[0m in \u001b[0;36m<module>\u001b[0;34m()\u001b[0m\n\u001b[0;32m----> 1\u001b[0;31m s1 = Simulacion(float(txt_demora_media.value),float(txt_variacion_demora.value),float(txt_tiempo_abandono.value),\n\u001b[0m\u001b[1;32m      2\u001b[0m        \u001b[0mfloat\u001b[0m\u001b[1;33m(\u001b[0m\u001b[0mtxt_porc_abandono\u001b[0m\u001b[1;33m.\u001b[0m\u001b[0mvalue\u001b[0m\u001b[1;33m)\u001b[0m\u001b[1;33m,\u001b[0m\u001b[0mfloat\u001b[0m\u001b[1;33m(\u001b[0m\u001b[0mtxt_param_horas\u001b[0m\u001b[1;33m.\u001b[0m\u001b[0mvalue\u001b[0m\u001b[1;33m)\u001b[0m\u001b[1;33m,\u001b[0m\u001b[0mfloat\u001b[0m\u001b[1;33m(\u001b[0m\u001b[0mtxt_param_min_inicio\u001b[0m\u001b[1;33m.\u001b[0m\u001b[0mvalue\u001b[0m\u001b[1;33m)\u001b[0m\u001b[1;33m,\u001b[0m\u001b[1;33m\u001b[0m\u001b[0m\n\u001b[1;32m      3\u001b[0m        int(txt_param_iteraciones.value))\n\u001b[1;32m      4\u001b[0m \u001b[0mtabla_uno\u001b[0m \u001b[1;33m=\u001b[0m \u001b[0ms1\u001b[0m\u001b[1;33m.\u001b[0m\u001b[0msimular\u001b[0m\u001b[1;33m(\u001b[0m\u001b[1;33m)\u001b[0m\u001b[1;33m\u001b[0m\u001b[0m\n",
      "\u001b[0;31mNameError\u001b[0m: name 'txt_demora_media' is not defined"
     ]
    }
   ],
   "source": [
    "s1 = Simulacion(p_precio_auto_a,p_precio_abandono_a,p_costo_grua_a,p_tiempo,p_mostrar_desde,p_iteraciones,\n",
    "     p_tiempo_grua_a,p_capac_grua_a,p_serv_min_a)\n",
    "tabla_uno = s1.simular()"
   ]
  },
  {
   "cell_type": "code",
   "execution_count": null,
   "metadata": {
    "collapsed": true
   },
   "outputs": [],
   "source": [
    "View(tabla_uno)"
   ]
  },
  {
   "cell_type": "markdown",
   "metadata": {},
   "source": [
    "## Simulación - Opción B##"
   ]
  },
  {
   "cell_type": "markdown",
   "metadata": {},
   "source": [
    "En el ejercicio original, se espera sólo a tener cómo mínimo tres autos antes de que la grúa empiece el traslado."
   ]
  },
  {
   "cell_type": "code",
   "execution_count": null,
   "metadata": {
    "collapsed": true
   },
   "outputs": [],
   "source": [
    "s2 = Simulacion(p_precio_auto_b,p_precio_abandono_b,p_costo_grua_b,p_tiempo,p_mostrar_desde,p_iteraciones,\n",
    "     p_tiempo_grua_b,p_capac_grua_b,p_serv_min_b)\n",
    "tabla_dos = s2.simular()"
   ]
  },
  {
   "cell_type": "code",
   "execution_count": null,
   "metadata": {
    "collapsed": true
   },
   "outputs": [],
   "source": [
    "#View(tabla_dos)"
   ]
  },
  {
   "cell_type": "markdown",
   "metadata": {},
   "source": [
    "## Análisis y estadísticas ##"
   ]
  },
  {
   "cell_type": "markdown",
   "metadata": {},
   "source": [
    "### Cantidad de abandonos ###\n",
    "Podemos analizar la cantidad de abandonos durante la simulación en el estado actual y con la mejora propuesta."
   ]
  },
  {
   "cell_type": "code",
   "execution_count": null,
   "metadata": {
    "collapsed": true
   },
   "outputs": [],
   "source": [
    "if txt_param_iteraciones.value != '0':\n",
    "    data_a=pd.DataFrame()\n",
    "    data_a[[\"Hora\",\"Cont Aband.\"]] = tabla_uno[[\"Hora\",\"Cont Aband.\"]].copy()\n",
    "    max_hora_a = data_a.loc[len(data_a)][0]\n",
    "\n",
    "    data_b=pd.DataFrame()\n",
    "    data_b[[\"Hora\",\"Cont Aband.\"]] = tabla_dos[[\"Hora\",\"Cont Aband.\"]].copy()\n",
    "    max_hora_b = data_b.loc[len(data_b)][0]\n",
    "\n",
    "    max_len = min(len(data_a),len(data_b))\n",
    "    data_a = data_a[:][0:max_len]\n",
    "    data_b = data_b[:][0:max_len]\n",
    "\n",
    "    max_hora= min(max_hora_a,max_hora_b)\n",
    "\n",
    "    X = np.linspace(float(txt_param_min_inicio.value), max_hora,len(data_a),endpoint=True)\n",
    "    plt.plot(X,data_a[\"Cont Aband.\"],label='Actual')\n",
    "    plt.plot(X,data_b[\"Cont Aband.\"],label='Propuesta')\n",
    "    plt.xlabel('Tiempo (min.)')\n",
    "    plt.ylabel('Cantidad')\n",
    "    plt.legend(loc='upper left')\n",
    "    plt.title('Cantidad de abandonos')\n",
    "    plt.show()"
   ]
  },
  {
   "cell_type": "markdown",
   "metadata": {},
   "source": [
    "### Proporción de clientes que abandonan ###\n",
    "Podemos analizar la cantidad de abandonos respecto con la cantidad de clientes bancarios que si se atienden, con las dos soluciones.\n"
   ]
  },
  {
   "cell_type": "code",
   "execution_count": null,
   "metadata": {
    "collapsed": true
   },
   "outputs": [],
   "source": [
    "Z1 = [s1.contador_abandonos,s1.contador_bancarios-s1.contador_abandonos]\n",
    "Z2 = [s2.contador_abandonos,s2.contador_bancarios-s2.contador_abandonos]\n",
    "plt.pie(Z1,labels=(\"Abandonos\",\"Atendidos\"),autopct='%1.1f%%',\n",
    "        shadow=True, startangle=90)\n",
    "plt.legend(loc='upper left')\n",
    "plt.title('Clientes actualmente')\n",
    "plt.show()\n",
    "\n",
    "plt.pie(Z2,labels=(\"Abandonos\",\"Atendidos\"), autopct='%1.1f%%',\n",
    "        shadow=True, startangle=90)\n",
    "plt.legend(loc='upper left')\n",
    "plt.title('Clientes con propuesta')\n",
    "plt.show()"
   ]
  },
  {
   "cell_type": "markdown",
   "metadata": {},
   "source": [
    "### Distribución de atención de clientes ###\n",
    "Podemos analizar la cantidad de abandonos respecto con la cantidad de clientes bancarios que si se atienden, con las dos soluciones."
   ]
  },
  {
   "cell_type": "code",
   "execution_count": null,
   "metadata": {
    "collapsed": true
   },
   "outputs": [],
   "source": [
    "%matplotlib inline\n",
    "if txt_param_iteraciones.value != 0:\n",
    "    cantidad = len(tabla_uno)-2\n",
    "    data_raw = pd.DataFrame(np.ones((cantidad,2)), columns = [\"Tiempo espera\",\"Hora\"], index=range(1,len(tabla_uno)-1))\n",
    "    index = 1\n",
    "    i = 1\n",
    "    while i<len(tabla_uno):\n",
    "        temp = float(tabla_uno.loc[i+1][20]) - float(tabla_uno.loc[i][20])\n",
    "        if temp > 0:\n",
    "            data_raw.loc[index][\"Tiempo espera\"] = temp\n",
    "            data_raw.loc[index][\"Hora\"] = tabla_uno.loc[i+1][\"Hora\"]\n",
    "            index += 1\n",
    "        i += 1\n",
    "    data_raw = data_raw.loc[1:index]\n",
    "\n",
    "    cantidad = len(tabla_dos)-2\n",
    "    data_raw2 = pd.DataFrame(np.ones((cantidad,2)), columns = [\"Tiempo espera\",\"Hora\"], index=range(1,len(tabla_dos)-1))\n",
    "    index = 1\n",
    "    i = 1\n",
    "    while i<len(tabla_dos):\n",
    "        temp = float(tabla_dos.loc[i+1][20]) - float(tabla_dos.loc[i][20])\n",
    "        if temp > 0:\n",
    "            data_raw2.loc[index][\"Tiempo espera\"] = temp\n",
    "            data_raw2.loc[index][\"Hora\"] = tabla_dos.loc[i+1][\"Hora\"]\n",
    "            index += 1\n",
    "        i += 1\n",
    "    data_raw2 = data_raw2.loc[1:index]\n",
    "       \n",
    "    data_raw.plot.hexbin(x=\"Tiempo espera\",y=\"Hora\", gridsize=35)\n",
    "    data_raw2.plot.hexbin(x=\"Tiempo espera\",y=\"Hora\", gridsize=35)"
   ]
  },
  {
   "cell_type": "markdown",
   "metadata": {},
   "source": [
    "## Conclusiones del ejercicio original ##\n",
    "Recomendamos a:\n",
    "* En"
   ]
  }
 ],
 "metadata": {
  "anaconda-cloud": {},
  "kernelspec": {
   "display_name": "Python [default]",
   "language": "python",
   "name": "python3"
  },
  "language_info": {
   "codemirror_mode": {
    "name": "ipython",
    "version": 3
   },
   "file_extension": ".py",
   "mimetype": "text/x-python",
   "name": "python",
   "nbconvert_exporter": "python",
   "pygments_lexer": "ipython3",
   "version": "3.5.2"
  }
 },
 "nbformat": 4,
 "nbformat_minor": 1
}
