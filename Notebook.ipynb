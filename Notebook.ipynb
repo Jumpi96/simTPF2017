{
 "cells": [
  {
   "cell_type": "markdown",
   "metadata": {},
   "source": [
    "# Trabajo Práctico Final - Simulación #"
   ]
  },
  {
   "cell_type": "code",
   "execution_count": null,
   "metadata": {
    "collapsed": true
   },
   "outputs": [],
   "source": [
    "from Simulacion import *\n",
    "from os import environ\n",
    "from IPython.display import HTML\n",
    "from IPython.display import display\n",
    "import pickle\n",
    "import numpy as np\n",
    "import matplotlib.pyplot as plt\n",
    "pd.set_option('display.max_columns', None)\n",
    "#pd.set_option('display.max_rows',None)\n"
   ]
  },
  {
   "cell_type": "markdown",
   "metadata": {},
   "source": [
    "## Modelo de simulación ##\n",
    "El modelo consta de los siguientes objetos:\n",
    "* Grúa {Viajando a P1, Viajando a P2, Cargando P1, Cargando P2}\n",
    "* Auto\n",
    "\n",
    "Además, tenemos los siguientes eventos:\n",
    "* Llegada auto P1\n",
    "* Llegada auto P2\n",
    "* Llegada a P1\n",
    "* Llegada a P2\n",
    "* Fin carga P1\n",
    "* Fin carga P2\n",
    "* Abandono\n",
    "\n"
   ]
  },
  {
   "cell_type": "markdown",
   "metadata": {},
   "source": [
    "## Parámetros e interfaz ##"
   ]
  },
  {
   "cell_type": "code",
   "execution_count": null,
   "metadata": {
    "collapsed": true
   },
   "outputs": [],
   "source": [
    "with open('param.pickle', 'rb') as handle:\n",
    "    param = pickle.load(handle)\n",
    "\n",
    "p_precio_auto_a = float(param['p_precio_auto_a'])\n",
    "p_precio_auto_b = float(param['p_precio_auto_b'])\n",
    "p_precio_abandono_a = float(param['p_precio_abandono_a'])\n",
    "p_precio_abandono_b = float(param['p_precio_abandono_b'])\n",
    "p_costo_grua_a = float(param['p_costo_grua_a'])\n",
    "p_costo_grua_b = float(param['p_costo_grua_b'])\n",
    "p_tiempo_grua_a = float(param['p_tiempo_grua_a'])\n",
    "p_tiempo_grua_b = float(param['p_tiempo_grua_b'])\n",
    "p_capac_grua_a = float(param['p_capac_grua_a'])\n",
    "p_capac_grua_b = float(param['p_capac_grua_b'])\n",
    "p_serv_min_a = float(param['p_serv_min_a'])\n",
    "p_serv_min_b = float(param['p_serv_min_b'])\n",
    "p_tiempo = float(param['p_tiempo'])\n",
    "p_mostrar_desde = float(param['p_mostrar_desde'])\n",
    "p_iteraciones = float(param['p_iteraciones'])"
   ]
  },
  {
   "cell_type": "code",
   "execution_count": null,
   "metadata": {
    "collapsed": true
   },
   "outputs": [],
   "source": [
    "def View(df,num):\n",
    "    css = \"\"\"<style>\n",
    "    table { border-collapse: collapse; border: 3px solid #eee; }\n",
    "    table tr th:first-child { background-color: #eeeeee; color: #333; font-weight: bold }\n",
    "    table thead th { background-color: #eee; color: #000; }\n",
    "    tr, th, td { border: 1px solid #ccc; border-width: 1px 0 0 1px; border-collapse: collapse;\n",
    "    padding: 3px; font-family: monospace; font-size: 10px }</style>\n",
    "    \"\"\"\n",
    "    s  = '<script type=\"text/Javascript\">'\n",
    "    s += 'var win = window.open(\"\", \"' + num + '\", \"toolbar=no, location=no, directories=no, status=no, menubar=no, scrollbars=yes, resizable=yes, width=780, height=200, top=\"+(screen.height-400)+\", left=\"+(screen.width-840));'\n",
    "    s += 'win.document.body.innerHTML = \\'' + (df.to_html() + css).replace(\"\\n\",'\\\\') + '\\';'\n",
    "    s += 'win.document.title = \"Simulación - Opción '+num+'\";'\n",
    "    s += '</script>'\n",
    "    return(HTML(s+css))"
   ]
  },
  {
   "cell_type": "markdown",
   "metadata": {},
   "source": [
    "## Simulación - Opción A##"
   ]
  },
  {
   "cell_type": "markdown",
   "metadata": {},
   "source": [
    "En el ejercicio original, implica esperar a completar la grúa antes de empezar el traslado."
   ]
  },
  {
   "cell_type": "code",
   "execution_count": null,
   "metadata": {
    "collapsed": true,
    "scrolled": true
   },
   "outputs": [],
   "source": [
    "s1 = Simulacion(p_precio_auto_a,p_precio_abandono_a,p_costo_grua_a,p_tiempo,p_mostrar_desde,p_iteraciones,\n",
    "     p_tiempo_grua_a,p_capac_grua_a,p_serv_min_a)\n",
    "tabla_uno = s1.simular()"
   ]
  },
  {
   "cell_type": "code",
   "execution_count": null,
   "metadata": {},
   "outputs": [],
   "source": [
    "View(tabla_uno,\"A\")"
   ]
  },
  {
   "cell_type": "markdown",
   "metadata": {},
   "source": [
    "## Simulación - Opción B##"
   ]
  },
  {
   "cell_type": "markdown",
   "metadata": {},
   "source": [
    "En el ejercicio original, se espera sólo a tener cómo mínimo tres autos antes de que la grúa empiece el traslado."
   ]
  },
  {
   "cell_type": "code",
   "execution_count": null,
   "metadata": {
    "collapsed": true
   },
   "outputs": [],
   "source": [
    "s2 = Simulacion(p_precio_auto_b,p_precio_abandono_b,p_costo_grua_b,p_tiempo,p_mostrar_desde,p_iteraciones,\n",
    "     p_tiempo_grua_b,p_capac_grua_b,p_serv_min_b)\n",
    "tabla_dos = s2.simular()"
   ]
  },
  {
   "cell_type": "code",
   "execution_count": null,
   "metadata": {},
   "outputs": [],
   "source": [
    "View(tabla_dos,\"B\")"
   ]
  },
  {
   "cell_type": "markdown",
   "metadata": {},
   "source": [
    "## Análisis y estadísticas ##"
   ]
  },
  {
   "cell_type": "code",
   "execution_count": null,
   "metadata": {
    "collapsed": true
   },
   "outputs": [],
   "source": [
    "def autolabel(rects):\n",
    "    \"\"\"\n",
    "    Attach a text label above each bar displaying its height\n",
    "    \"\"\"\n",
    "    for rect in rects:\n",
    "        height = rect.get_height()\n",
    "        ax.text(rect.get_x() + rect.get_width()/2., 1.05*height,\n",
    "                '%d' % int(height),\n",
    "                ha='center', va='bottom')"
   ]
  },
  {
   "cell_type": "markdown",
   "metadata": {},
   "source": [
    "### Ganancias acumuladas"
   ]
  },
  {
   "cell_type": "code",
   "execution_count": null,
   "metadata": {},
   "outputs": [],
   "source": [
    "A_val=s1.acum_ganancias\n",
    "B_val=s2.acum_ganancias\n",
    "ind = np.arange(1)\n",
    "width = 0.05\n",
    "\n",
    "fig, ax = plt.subplots()\n",
    "rects1 = ax.bar(ind, A_val, width, color='r')\n",
    "rects2 = ax.bar(ind + width, B_val, width, color='y')\n",
    "\n",
    "ax.set_ylabel('Ganancias')\n",
    "ax.set_title('Ganancias acumuladas')\n",
    "ax.set_xticks(ind + width / 2)\n",
    "ax.set_xticklabels(('G'))\n",
    "\n",
    "ax.legend((rects1[0], rects2[0]), ('Opción A', 'Opción B'))\n",
    "\n",
    "autolabel(rects1)\n",
    "autolabel(rects2)\n",
    "\n",
    "plt.show()"
   ]
  },
  {
   "cell_type": "markdown",
   "metadata": {},
   "source": [
    "### Tiempo de permanencia promedio"
   ]
  },
  {
   "cell_type": "markdown",
   "metadata": {},
   "source": [
    "Se tiene en cuenta desde la llegada hasta el fin de la atención sólo a vehículos atendidos."
   ]
  },
  {
   "cell_type": "code",
   "execution_count": null,
   "metadata": {},
   "outputs": [],
   "source": [
    "A_val = ((s1.acum_permanencia/s1.cont_atendidos))\n",
    "B_val = ((s2.acum_permanencia/s2.cont_atendidos))\n",
    "ind = np.arange(1)\n",
    "width = 0.05\n",
    "\n",
    "fig, ax = plt.subplots()\n",
    "rects1 = ax.bar(ind, A_val, width, color='b')\n",
    "rects2 = ax.bar(ind + width, B_val, width, color='g')\n",
    "\n",
    "ax.set_ylabel('Tiempo')\n",
    "ax.set_title('Promedio de permanencia')\n",
    "ax.set_xticks(ind + width / 2)\n",
    "ax.set_xticklabels(('P'))\n",
    "\n",
    "ax.legend((rects1[0], rects2[0]), ('Opción A', 'Opción B'))\n",
    "\n",
    "plt.show()"
   ]
  },
  {
   "cell_type": "markdown",
   "metadata": {},
   "source": [
    "### Cantidad de abandonos ###\n",
    "Podemos analizar la cantidad de abandonos durante el período de la simulación mostrada en el estado actual y con la mejora propuesta."
   ]
  },
  {
   "cell_type": "code",
   "execution_count": null,
   "metadata": {
    "collapsed": true
   },
   "outputs": [],
   "source": [
    "if p_iteraciones != '0':\n",
    "    data_a=pd.DataFrame()\n",
    "    data_a[[\"Reloj\",\"Cont. Perdidos\"]] = tabla_uno[[\"Reloj\",\"Cont. Perdidos\"]].copy()\n",
    "    max_hora_a = data_a.loc[len(data_a)][0]\n",
    "\n",
    "    data_b=pd.DataFrame()\n",
    "    data_b[[\"Reloj\",\"Cont. Perdidos\"]] = tabla_dos[[\"Reloj\",\"Cont. Perdidos\"]].copy()\n",
    "    max_hora_b = data_b.loc[len(data_b)][0]\n",
    "\n",
    "    max_len = min(len(data_a),len(data_b))\n",
    "    data_a = data_a[:][0:max_len]\n",
    "    data_b = data_b[:][0:max_len]\n",
    "\n",
    "    max_hora= min(max_hora_a,max_hora_b)\n",
    "\n",
    "    X = np.linspace(float(p_mostrar_desde), max_hora,len(data_a),endpoint=True)\n",
    "    plt.plot(X,data_a[\"Cont. Perdidos\"],label='A')\n",
    "    plt.plot(X,data_b[\"Cont. Perdidos\"],label='B')\n",
    "    plt.xlabel('Tiempo (min.)')\n",
    "    plt.ylabel('Cantidad')\n",
    "    plt.legend(loc='upper left')\n",
    "    plt.title('Cantidad de abandonos')\n",
    "    plt.show()"
   ]
  },
  {
   "cell_type": "markdown",
   "metadata": {},
   "source": [
    "### Proporción de clientes que abandonan ###\n",
    "Podemos analizar la cantidad de abandonos respecto con la cantidad de clientes bancarios que si se atienden, con las dos soluciones.\n"
   ]
  },
  {
   "cell_type": "code",
   "execution_count": null,
   "metadata": {
    "collapsed": true
   },
   "outputs": [],
   "source": [
    "Z1 = [s1.cont_abandonos,s1.cont_atendidos]\n",
    "Z2 = [s2.cont_abandonos,s2.cont_atendidos]\n",
    "plt.pie(Z1,labels=(\"Abandonos\",\"Atendidos\"),autopct='%1.1f%%',\n",
    "        shadow=True, startangle=90)\n",
    "plt.legend(loc='upper left')\n",
    "plt.title('Clientes A')\n",
    "plt.show()\n",
    "\n",
    "plt.pie(Z2,labels=(\"Abandonos\",\"Atendidos\"), autopct='%1.1f%%',\n",
    "        shadow=True, startangle=90)\n",
    "plt.legend(loc='upper left')\n",
    "plt.title('Clientes B')\n",
    "plt.show()"
   ]
  },
  {
   "cell_type": "markdown",
   "metadata": {},
   "source": [
    "## Conclusiones del ejercicio original ##\n",
    "Recomendamos a:\n",
    "* En"
   ]
  },
  {
   "cell_type": "code",
   "execution_count": null,
   "metadata": {
    "collapsed": true
   },
   "outputs": [],
   "source": []
  }
 ],
 "metadata": {
  "anaconda-cloud": {},
  "kernelspec": {
   "display_name": "Python 3",
   "language": "python",
   "name": "python3"
  },
  "language_info": {
   "codemirror_mode": {
    "name": "ipython",
    "version": 3
   },
   "file_extension": ".py",
   "mimetype": "text/x-python",
   "name": "python",
   "nbconvert_exporter": "python",
   "pygments_lexer": "ipython3",
   "version": "3.5.3"
  }
 },
 "nbformat": 4,
 "nbformat_minor": 1
}
