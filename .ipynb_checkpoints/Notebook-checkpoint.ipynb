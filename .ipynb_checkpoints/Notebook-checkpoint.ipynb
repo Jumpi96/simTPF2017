{
 "cells": [
  {
   "cell_type": "markdown",
   "metadata": {},
   "source": [
    "# Trabajo Práctico Final - Simulación #"
   ]
  },
  {
   "cell_type": "code",
   "execution_count": 7,
   "metadata": {},
   "outputs": [
    {
     "ename": "AttributeError",
     "evalue": "module 'pandas' has no attribute 'core'",
     "output_type": "error",
     "traceback": [
      "\u001b[0;31m---------------------------------------------------------------------------\u001b[0m",
      "\u001b[0;31mAttributeError\u001b[0m                            Traceback (most recent call last)",
      "\u001b[0;32m<ipython-input-7-a68aa8366bc4>\u001b[0m in \u001b[0;36m<module>\u001b[0;34m()\u001b[0m\n\u001b[0;32m----> 1\u001b[0;31m \u001b[1;32mfrom\u001b[0m \u001b[0mSimulacion\u001b[0m \u001b[1;32mimport\u001b[0m \u001b[1;33m*\u001b[0m\u001b[1;33m\u001b[0m\u001b[0m\n\u001b[0m\u001b[1;32m      2\u001b[0m \u001b[1;32mfrom\u001b[0m \u001b[0mIPython\u001b[0m\u001b[1;33m.\u001b[0m\u001b[0mdisplay\u001b[0m \u001b[1;32mimport\u001b[0m \u001b[0mHTML\u001b[0m\u001b[1;33m\u001b[0m\u001b[0m\n\u001b[1;32m      3\u001b[0m \u001b[1;32mfrom\u001b[0m \u001b[0mipywidgets\u001b[0m \u001b[1;32mimport\u001b[0m \u001b[0mwidgets\u001b[0m\u001b[1;33m\u001b[0m\u001b[0m\n\u001b[1;32m      4\u001b[0m \u001b[1;32mfrom\u001b[0m \u001b[0mIPython\u001b[0m\u001b[1;33m.\u001b[0m\u001b[0mdisplay\u001b[0m \u001b[1;32mimport\u001b[0m \u001b[0mdisplay\u001b[0m\u001b[1;33m\u001b[0m\u001b[0m\n\u001b[1;32m      5\u001b[0m \u001b[1;32mimport\u001b[0m \u001b[0mmatplotlib\u001b[0m\u001b[1;33m.\u001b[0m\u001b[0mpyplot\u001b[0m \u001b[1;32mas\u001b[0m \u001b[0mplt\u001b[0m\u001b[1;33m\u001b[0m\u001b[0m\n",
      "\u001b[0;32mE:\\SWAP\\TPF SIM II\\Simulacion.py\u001b[0m in \u001b[0;36m<module>\u001b[0;34m()\u001b[0m\n\u001b[0;32m----> 1\u001b[0;31m \u001b[1;32mfrom\u001b[0m \u001b[0mClases\u001b[0m \u001b[1;32mimport\u001b[0m \u001b[1;33m*\u001b[0m\u001b[1;33m\u001b[0m\u001b[0m\n\u001b[0m\u001b[1;32m      2\u001b[0m \u001b[1;31m#from Interfaz import *\u001b[0m\u001b[1;33m\u001b[0m\u001b[1;33m\u001b[0m\u001b[0m\n\u001b[1;32m      3\u001b[0m \u001b[1;32mimport\u001b[0m \u001b[0mrandom\u001b[0m\u001b[1;33m\u001b[0m\u001b[0m\n\u001b[1;32m      4\u001b[0m \u001b[1;32mimport\u001b[0m \u001b[0mpandas\u001b[0m \u001b[1;32mas\u001b[0m \u001b[0mpd\u001b[0m\u001b[1;33m\u001b[0m\u001b[0m\n\u001b[1;32m      5\u001b[0m \u001b[1;32mimport\u001b[0m \u001b[0mmath\u001b[0m\u001b[1;33m\u001b[0m\u001b[0m\n",
      "\u001b[0;32mE:\\SWAP\\TPF SIM II\\Clases.py\u001b[0m in \u001b[0;36m<module>\u001b[0;34m()\u001b[0m\n\u001b[0;32m----> 1\u001b[0;31m \u001b[1;32mimport\u001b[0m \u001b[0mpandas\u001b[0m \u001b[1;32mas\u001b[0m \u001b[0mpd\u001b[0m\u001b[1;33m\u001b[0m\u001b[0m\n\u001b[0m\u001b[1;32m      2\u001b[0m \u001b[1;33m\u001b[0m\u001b[0m\n\u001b[1;32m      3\u001b[0m \u001b[1;33m\u001b[0m\u001b[0m\n\u001b[1;32m      4\u001b[0m \u001b[1;32mclass\u001b[0m \u001b[0mGrua\u001b[0m\u001b[1;33m:\u001b[0m\u001b[1;33m\u001b[0m\u001b[0m\n\u001b[1;32m      5\u001b[0m \u001b[1;33m\u001b[0m\u001b[0m\n",
      "\u001b[0;32mC:\\Users\\juamp\\Anaconda3\\lib\\site-packages\\pandas\\__init__.py\u001b[0m in \u001b[0;36m<module>\u001b[0;34m()\u001b[0m\n\u001b[1;32m     35\u001b[0m \u001b[1;33m\u001b[0m\u001b[0m\n\u001b[1;32m     36\u001b[0m \u001b[1;31m# let init-time option registration happen\u001b[0m\u001b[1;33m\u001b[0m\u001b[1;33m\u001b[0m\u001b[0m\n\u001b[0;32m---> 37\u001b[0;31m \u001b[1;32mimport\u001b[0m \u001b[0mpandas\u001b[0m\u001b[1;33m.\u001b[0m\u001b[0mcore\u001b[0m\u001b[1;33m.\u001b[0m\u001b[0mconfig_init\u001b[0m\u001b[1;33m\u001b[0m\u001b[0m\n\u001b[0m\u001b[1;32m     38\u001b[0m \u001b[1;33m\u001b[0m\u001b[0m\n\u001b[1;32m     39\u001b[0m \u001b[1;32mfrom\u001b[0m \u001b[0mpandas\u001b[0m\u001b[1;33m.\u001b[0m\u001b[0mcore\u001b[0m\u001b[1;33m.\u001b[0m\u001b[0mapi\u001b[0m \u001b[1;32mimport\u001b[0m \u001b[1;33m*\u001b[0m\u001b[1;33m\u001b[0m\u001b[0m\n",
      "\u001b[0;32mC:\\Users\\juamp\\Anaconda3\\lib\\site-packages\\pandas\\core\\config_init.py\u001b[0m in \u001b[0;36m<module>\u001b[0;34m()\u001b[0m\n\u001b[1;32m     12\u001b[0m \u001b[1;32mimport\u001b[0m \u001b[0mwarnings\u001b[0m\u001b[1;33m\u001b[0m\u001b[0m\n\u001b[1;32m     13\u001b[0m \u001b[1;33m\u001b[0m\u001b[0m\n\u001b[0;32m---> 14\u001b[0;31m \u001b[1;32mimport\u001b[0m \u001b[0mpandas\u001b[0m\u001b[1;33m.\u001b[0m\u001b[0mcore\u001b[0m\u001b[1;33m.\u001b[0m\u001b[0mconfig\u001b[0m \u001b[1;32mas\u001b[0m \u001b[0mcf\u001b[0m\u001b[1;33m\u001b[0m\u001b[0m\n\u001b[0m\u001b[1;32m     15\u001b[0m from pandas.core.config import (is_int, is_bool, is_text, is_instance_factory,\n\u001b[1;32m     16\u001b[0m                                 \u001b[0mis_one_of_factory\u001b[0m\u001b[1;33m,\u001b[0m \u001b[0mget_default_val\u001b[0m\u001b[1;33m,\u001b[0m\u001b[1;33m\u001b[0m\u001b[0m\n",
      "\u001b[0;31mAttributeError\u001b[0m: module 'pandas' has no attribute 'core'"
     ]
    }
   ],
   "source": [
    "from Simulacion import *\n",
    "from IPython.display import HTML\n",
    "from ipywidgets import widgets\n",
    "from IPython.display import display\n",
    "import matplotlib.pyplot as plt\n",
    "import numpy as np\n",
    "pd.set_option('display.max_columns', None)\n",
    "#pd.set_option('display.max_rows',None)\n"
   ]
  },
  {
   "cell_type": "markdown",
   "metadata": {},
   "source": [
    "## Modelo de simulación ##\n",
    "El modelo consta de los siguientes objetos:\n",
    "* Grúa {Viajando a P1, Viajando a P2, Cargando P1, Cargando P2}\n",
    "* Auto\n",
    "\n",
    "Además, tenemos los siguientes eventos:\n",
    "* Llegada auto P1\n",
    "* Llegada auto P2\n",
    "* Llegada a P1\n",
    "* Llegada a P2\n",
    "* Fin carga P1\n",
    "* Fin carga P2\n",
    "* Abandono\n",
    "\n"
   ]
  },
  {
   "cell_type": "markdown",
   "metadata": {},
   "source": [
    "## Configurando interfaz e ingreso de datos ##"
   ]
  },
  {
   "cell_type": "code",
   "execution_count": 8,
   "metadata": {
    "collapsed": true
   },
   "outputs": [],
   "source": [
    "param_min = 480\n",
    "param_min_inicio = 0\n",
    "param_iteraciones = 50\n",
    "param_costo_auto = 2.5\n",
    "param_costo_abandono = 1.5\n",
    "param_costo_traslado = 7\n",
    "param_tiempo_grua = 6\n",
    "param_capacidad_grua = 5\n",
    "param_carga_min = 5\n",
    "param_correctos = True\n",
    "parametros = []\n"
   ]
  },
  {
   "cell_type": "code",
   "execution_count": 3,
   "metadata": {
    "collapsed": true,
    "scrolled": true
   },
   "outputs": [],
   "source": [
    "def isfloatandpositive(value):\n",
    "  try:\n",
    "    float(value)\n",
    "    if float(value)>=0.0:\n",
    "        return True\n",
    "  except ValueError:\n",
    "    return False\n",
    "\n",
    "def isintandpositive(value):\n",
    "  try:\n",
    "    int(value)\n",
    "    if int(value)>=0:\n",
    "        return True\n",
    "  except ValueError:\n",
    "    return False\n",
    "\n",
    "def on_button_clicked(btn):\n",
    "    label.visible = False\n",
    "    if not isfloatandpositive(txt_costo_auto.value):\n",
    "        label.value = \"El costo por auto ingresado no es válido.\"\n",
    "        return False\n",
    "    if not isfloatandpositive(txt_costo_abandono.value):\n",
    "        label.value = \"El costo por abandono no es válido.\"\n",
    "        return False\n",
    "    if not isfloatandpositive(txt_costo_traslado.value):\n",
    "        label.value = \"El costo por abandono no es válido.\"\n",
    "        return False\n",
    "    if isfloatandpositive(txt_tiempo_grua.value):\n",
    "        if float(txt_tiempo_grua.value) == 0.0:\n",
    "            label.value = \"El tiempo de traslado no es válido.\"\n",
    "            return False\n",
    "    if not isfloatandpositive(txt_tiempo_grua.value):\n",
    "        label.value = \"El tiempo de traslado no es válido.\"\n",
    "        return False\n",
    "    if isintandpositive(txt_capacidad_grua.value):\n",
    "        if float(txt_capacidad_grua.value) == 0:\n",
    "            label.value = \"La capacidad de la grúa ingresada no es válida.\"\n",
    "            return False\n",
    "    if not isintandpositive(txt_capacidad_grua.value):\n",
    "        label.value = \"La capacidad de la grúa ingresada no es válida.\"\n",
    "        return False\n",
    "    if isintandpositive(txt_carga_min.value):\n",
    "        a = float(txt_carga_min.value)\n",
    "        if not (a > 0 and a <= txt_capacidad_grua.value):\n",
    "            label.value = \"La carga mín. de la grúa no es válida.\"\n",
    "            return False\n",
    "    if isfloatandpositive(txt_param_min.value):\n",
    "        if float(txt_param_min.value)==0.0:\n",
    "            label.value = \"La cantidad de minutos ingresada no es válida.\"\n",
    "            return False\n",
    "    if not isfloatandpositive(txt_param_min.value):\n",
    "        label.value = \"La cantidad de minutos ingresada no es válida.\"\n",
    "        return False\n",
    "    if isfloatandpositive(txt_param_min_inicio.value):\n",
    "        if float(txt_param_min_inicio.value)>float(txt_param_horas.value):\n",
    "            label.value = \"El minuto a mostrar no es válido.\"\n",
    "            return False\n",
    "    if not isintandpositive(txt_param_min_inicio.value):\n",
    "        label.value = \"El minuto a mostrar no es válido.\"\n",
    "        return False\n",
    "    if not isfloatandpositive(txt_param_iteraciones.value):\n",
    "        label.value = \"Las iteraciones a mostrar no son válidas.\"\n",
    "        return False\n",
    "    label.value = \"Parámetros actualizados.\"\n",
    "    return True"
   ]
  },
  {
   "cell_type": "code",
   "execution_count": 4,
   "metadata": {
    "collapsed": true
   },
   "outputs": [],
   "source": [
    "def View(df):\n",
    "    css = \"\"\"<style>\n",
    "    table { border-collapse: collapse; border: 3px solid #eee; }\n",
    "    table tr th:first-child { background-color: #eeeeee; color: #333; font-weight: bold }\n",
    "    table thead th { background-color: #eee; color: #000; }\n",
    "    tr, th, td { border: 1px solid #ccc; border-width: 1px 0 0 1px; border-collapse: collapse;\n",
    "    padding: 3px; font-family: monospace; font-size: 10px }</style>\n",
    "    \"\"\"\n",
    "    s  = '<script type=\"text/Javascript\">'\n",
    "    s += 'var win = window.open(\"\", \"Title\", \"toolbar=no, location=no, directories=no, status=no, menubar=no, scrollbars=yes, resizable=yes, width=780, height=200, top=\"+(screen.height-400)+\", left=\"+(screen.width-840));'\n",
    "    s += 'win.document.body.innerHTML = \\'' + (df.to_html() + css).replace(\"\\n\",'\\\\') + '\\';'\n",
    "    s += '</script>'\n",
    "    return(HTML(s+css))"
   ]
  },
  {
   "cell_type": "code",
   "execution_count": 1,
   "metadata": {},
   "outputs": [
    {
     "ename": "NameError",
     "evalue": "name 'widgets' is not defined",
     "output_type": "error",
     "traceback": [
      "\u001b[0;31m---------------------------------------------------------------------------\u001b[0m",
      "\u001b[0;31mNameError\u001b[0m                                 Traceback (most recent call last)",
      "\u001b[0;32m<ipython-input-1-f00a51039d5a>\u001b[0m in \u001b[0;36m<module>\u001b[0;34m()\u001b[0m\n\u001b[0;32m----> 1\u001b[0;31m \u001b[0mtxt_param_min\u001b[0m \u001b[1;33m=\u001b[0m \u001b[0mwidgets\u001b[0m\u001b[1;33m.\u001b[0m\u001b[0mText\u001b[0m\u001b[1;33m(\u001b[0m\u001b[0mdescription\u001b[0m\u001b[1;33m=\u001b[0m\u001b[1;34m\"Minutos a simular\"\u001b[0m\u001b[1;33m)\u001b[0m\u001b[1;33m\u001b[0m\u001b[0m\n\u001b[0m\u001b[1;32m      2\u001b[0m \u001b[0mtxt_param_min\u001b[0m\u001b[1;33m.\u001b[0m\u001b[0mvalue\u001b[0m \u001b[1;33m=\u001b[0m \u001b[0mstr\u001b[0m\u001b[1;33m(\u001b[0m\u001b[0mparam_min\u001b[0m\u001b[1;33m)\u001b[0m\u001b[1;33m\u001b[0m\u001b[0m\n\u001b[1;32m      3\u001b[0m \u001b[0mtxt_param_min_inicio\u001b[0m \u001b[1;33m=\u001b[0m \u001b[0mwidgets\u001b[0m\u001b[1;33m.\u001b[0m\u001b[0mText\u001b[0m\u001b[1;33m(\u001b[0m\u001b[0mdescription\u001b[0m\u001b[1;33m=\u001b[0m\u001b[1;34m\"Mostrar desde minuto\"\u001b[0m\u001b[1;33m)\u001b[0m\u001b[1;33m\u001b[0m\u001b[0m\n\u001b[1;32m      4\u001b[0m \u001b[0mtxt_param_min_inicio\u001b[0m\u001b[1;33m.\u001b[0m\u001b[0mvalue\u001b[0m \u001b[1;33m=\u001b[0m \u001b[0mstr\u001b[0m\u001b[1;33m(\u001b[0m\u001b[0mparam_min_inicio\u001b[0m\u001b[1;33m)\u001b[0m\u001b[1;33m\u001b[0m\u001b[0m\n\u001b[1;32m      5\u001b[0m \u001b[0mtxt_param_iteraciones\u001b[0m \u001b[1;33m=\u001b[0m \u001b[0mwidgets\u001b[0m\u001b[1;33m.\u001b[0m\u001b[0mText\u001b[0m\u001b[1;33m(\u001b[0m\u001b[0mdescription\u001b[0m\u001b[1;33m=\u001b[0m\u001b[1;34m\"Iteraciones a mostrar\"\u001b[0m\u001b[1;33m)\u001b[0m\u001b[1;33m\u001b[0m\u001b[0m\n",
      "\u001b[0;31mNameError\u001b[0m: name 'widgets' is not defined"
     ]
    }
   ],
   "source": [
    "txt_param_min = widgets.Text(description=\"Minutos a simular\")\n",
    "txt_param_min.value = str(param_min)\n",
    "txt_param_min_inicio = widgets.Text(description=\"Mostrar desde minuto\")\n",
    "txt_param_min_inicio.value = str(param_min_inicio)\n",
    "txt_param_iteraciones = widgets.Text(description=\"Iteraciones a mostrar\")\n",
    "txt_param_iteraciones.value = str(param_iteraciones)\n",
    "txt_costo_auto = widgets.Text(description=\"Costo por auto ($)\")\n",
    "txt_costo_auto.value = str(param_costo_auto)\n",
    "txt_costo_abandono = widgets.Text(description=\"Pérdida por abandono ($)\")\n",
    "txt_costo_abandono.value = str(param_costo_abandono)\n",
    "txt_costo_grua = widgets.Text(description=\"Costo de traslado ($)\")\n",
    "txt_costo_grua.value = str(param_costo_grua)\n",
    "txt_tiempo_grua = widgets.Text(description=\"Demora de grúa (min.)\")\n",
    "txt_tiempo_grua.value = str(param_tiempo_grua)\n",
    "txt_capacidad_grua = widgets.Text(description=\"Capacidad de la grúa\")\n",
    "txt_capacidad_grua.value = str(param_capacidad_grua)\n",
    "txt_carga_min = widgets.Text(description=\"Carga mín. para trasladar\")\n",
    "txt_carga_min.value = str(param_carga_min)\n",
    "\n",
    "button = widgets.Button(description = \"Cambiar parámetros\")\n",
    "label = widgets.Text()\n",
    "#label.width = '300px'\n",
    "\n",
    "button.on_click(on_button_clicked)"
   ]
  },
  {
   "cell_type": "markdown",
   "metadata": {},
   "source": [
    "## Estado actual ##"
   ]
  },
  {
   "cell_type": "markdown",
   "metadata": {},
   "source": [
    "Se incluyen los parámetros de la situación original del problema. Pueden ser modificados por el usuario."
   ]
  },
  {
   "cell_type": "code",
   "execution_count": null,
   "metadata": {},
   "outputs": [],
   "source": [
    "param_min = 480\n",
    "param_min_inicio = 0\n",
    "param_iteraciones = 50\n",
    "param_costo_auto = 2.5\n",
    "param_costo_abandono = 1.5\n",
    "param_costo_traslado = 7\n",
    "param_tiempo_grua = 6\n",
    "param_capacidad_grua = 5\n",
    "param_carga_min = 5\n",
    "\n",
    "display(txt_param_min)\n",
    "display(txt_param_min_inicio)\n",
    "display(txt_param_iteraciones)\n",
    "display(txt_costo_auto)\n",
    "display(txt_costo_abandono)\n",
    "display(txt_costo_traslado)\n",
    "display(txt_tiempo_grua)\n",
    "display(txt_capacidad_grua)\n",
    "display(txt_carga_min)\n",
    "display(button)\n",
    "label.disabled = True\n",
    "label.value = \"\"\n",
    "display(label)\n",
    "\n",
    "\n",
    "##HASTA ACA ESTA"
   ]
  },
  {
   "cell_type": "code",
   "execution_count": null,
   "metadata": {
    "collapsed": true,
    "scrolled": true
   },
   "outputs": [],
   "source": [
    "tabla_uno = None\n",
    "if on_button_clicked(button):\n",
    "    label.value = \"\"\n",
    "    s1 = Simulacion(float(txt_demora_media.value),float(txt_variacion_demora.value),float(txt_tiempo_abandono.value),\n",
    "           float(txt_porc_abandono.value),float(txt_param_horas.value),float(txt_param_min_inicio.value),\n",
    "           int(txt_param_iteraciones.value))\n",
    "    tabla_uno = s1.simular()"
   ]
  },
  {
   "cell_type": "code",
   "execution_count": null,
   "metadata": {},
   "outputs": [],
   "source": [
    "View(tabla_uno)"
   ]
  },
  {
   "cell_type": "markdown",
   "metadata": {},
   "source": [
    "## Solución  propuesta##\n"
   ]
  },
  {
   "cell_type": "markdown",
   "metadata": {},
   "source": [
    "Se propone incluir un cajero en la Caja 1 (Clientes) que demore entre 40 y 80 segundos, contra los 60 a 120 segundos del cajero original."
   ]
  },
  {
   "cell_type": "code",
   "execution_count": null,
   "metadata": {
    "collapsed": true
   },
   "outputs": [],
   "source": [
    "tabla_dos = None\n",
    "if on_button_clicked(button):\n",
    "    label.value = \"\"\n",
    "    s2 = Simulacion(60,20,float(txt_tiempo_abandono.value),\n",
    "           float(txt_porc_abandono.value),float(txt_param_horas.value),float(txt_param_min_inicio.value),\n",
    "           int(txt_param_iteraciones.value))\n",
    "    tabla_dos = s2.simular()"
   ]
  },
  {
   "cell_type": "code",
   "execution_count": null,
   "metadata": {
    "collapsed": true
   },
   "outputs": [],
   "source": [
    "View(tabla_dos)"
   ]
  },
  {
   "cell_type": "markdown",
   "metadata": {},
   "source": [
    "## Análisis y estadísticas ##"
   ]
  },
  {
   "cell_type": "markdown",
   "metadata": {},
   "source": [
    "### Cantidad de abandonos ###\n",
    "Podemos analizar la cantidad de abandonos durante la simulación en el estado actual y con la mejora propuesta."
   ]
  },
  {
   "cell_type": "code",
   "execution_count": null,
   "metadata": {},
   "outputs": [],
   "source": [
    "if txt_param_iteraciones.value != '0':\n",
    "    data_a=pd.DataFrame()\n",
    "    data_a[[\"Hora\",\"Cont Aband.\"]] = tabla_uno[[\"Hora\",\"Cont Aband.\"]].copy()\n",
    "    max_hora_a = data_a.loc[len(data_a)][0]\n",
    "\n",
    "    data_b=pd.DataFrame()\n",
    "    data_b[[\"Hora\",\"Cont Aband.\"]] = tabla_dos[[\"Hora\",\"Cont Aband.\"]].copy()\n",
    "    max_hora_b = data_b.loc[len(data_b)][0]\n",
    "\n",
    "    max_len = min(len(data_a),len(data_b))\n",
    "    data_a = data_a[:][0:max_len]\n",
    "    data_b = data_b[:][0:max_len]\n",
    "\n",
    "    max_hora= min(max_hora_a,max_hora_b)\n",
    "\n",
    "    X = np.linspace(float(txt_param_min_inicio.value), max_hora,len(data_a),endpoint=True)\n",
    "    plt.plot(X,data_a[\"Cont Aband.\"],label='Actual')\n",
    "    plt.plot(X,data_b[\"Cont Aband.\"],label='Propuesta')\n",
    "    plt.xlabel('Tiempo (min.)')\n",
    "    plt.ylabel('Cantidad')\n",
    "    plt.legend(loc='upper left')\n",
    "    plt.title('Cantidad de abandonos')\n",
    "    plt.show()"
   ]
  },
  {
   "cell_type": "markdown",
   "metadata": {},
   "source": [
    "### Proporción de clientes que abandonan ###\n",
    "Podemos analizar la cantidad de abandonos respecto con la cantidad de clientes bancarios que si se atienden, con las dos soluciones.\n"
   ]
  },
  {
   "cell_type": "code",
   "execution_count": null,
   "metadata": {},
   "outputs": [],
   "source": [
    "Z1 = [s1.contador_abandonos,s1.contador_bancarios-s1.contador_abandonos]\n",
    "Z2 = [s2.contador_abandonos,s2.contador_bancarios-s2.contador_abandonos]\n",
    "plt.pie(Z1,labels=(\"Abandonos\",\"Atendidos\"),autopct='%1.1f%%',\n",
    "        shadow=True, startangle=90)\n",
    "plt.legend(loc='upper left')\n",
    "plt.title('Clientes actualmente')\n",
    "plt.show()\n",
    "\n",
    "plt.pie(Z2,labels=(\"Abandonos\",\"Atendidos\"), autopct='%1.1f%%',\n",
    "        shadow=True, startangle=90)\n",
    "plt.legend(loc='upper left')\n",
    "plt.title('Clientes con propuesta')\n",
    "plt.show()"
   ]
  },
  {
   "cell_type": "markdown",
   "metadata": {},
   "source": [
    "### Distribución de atención de clientes ###\n",
    "Podemos analizar la cantidad de abandonos respecto con la cantidad de clientes bancarios que si se atienden, con las dos soluciones."
   ]
  },
  {
   "cell_type": "code",
   "execution_count": null,
   "metadata": {},
   "outputs": [],
   "source": [
    "%matplotlib inline\n",
    "if txt_param_iteraciones.value != 0:\n",
    "    cantidad = len(tabla_uno)-2\n",
    "    data_raw = pd.DataFrame(np.ones((cantidad,2)), columns = [\"Tiempo espera\",\"Hora\"], index=range(1,len(tabla_uno)-1))\n",
    "    index = 1\n",
    "    i = 1\n",
    "    while i<len(tabla_uno):\n",
    "        temp = float(tabla_uno.loc[i+1][20]) - float(tabla_uno.loc[i][20])\n",
    "        if temp > 0:\n",
    "            data_raw.loc[index][\"Tiempo espera\"] = temp\n",
    "            data_raw.loc[index][\"Hora\"] = tabla_uno.loc[i+1][\"Hora\"]\n",
    "            index += 1\n",
    "        i += 1\n",
    "    data_raw = data_raw.loc[1:index]\n",
    "\n",
    "    cantidad = len(tabla_dos)-2\n",
    "    data_raw2 = pd.DataFrame(np.ones((cantidad,2)), columns = [\"Tiempo espera\",\"Hora\"], index=range(1,len(tabla_dos)-1))\n",
    "    index = 1\n",
    "    i = 1\n",
    "    while i<len(tabla_dos):\n",
    "        temp = float(tabla_dos.loc[i+1][20]) - float(tabla_dos.loc[i][20])\n",
    "        if temp > 0:\n",
    "            data_raw2.loc[index][\"Tiempo espera\"] = temp\n",
    "            data_raw2.loc[index][\"Hora\"] = tabla_dos.loc[i+1][\"Hora\"]\n",
    "            index += 1\n",
    "        i += 1\n",
    "    data_raw2 = data_raw2.loc[1:index]\n",
    "       \n",
    "    data_raw.plot.hexbin(x=\"Tiempo espera\",y=\"Hora\", gridsize=35)\n",
    "    data_raw2.plot.hexbin(x=\"Tiempo espera\",y=\"Hora\", gridsize=35)"
   ]
  },
  {
   "cell_type": "markdown",
   "metadata": {},
   "source": [
    "## Conclusiones ##\n",
    "Recomendamos al administrador bancario con toda seguridad que la propuesta es beneficiosa para la atención. Agilizar la caja de clientes nos muestra:\n",
    "* En el primer gráfico, cómo a partir del minuto 50 los abandonos empiezan a ocurrir, aunque con interrupciones, pero casi con un crecimiento lineal en su número. Acá ya podemos observar que la caja de clientes ya no tiene abandonos con la nueva propuesta.\n",
    "* En el gráfico de torta, nos encontramos con que al finalizar  la simulación, hasta el 25% de los clientes pueden haberse retirado sin ser atendidos, un número que es más que importante. Por otro lado, el 100% de los clientes son atendidos con la nueva propuesta.\n",
    "* Por último, el último gráfico nos muestra cada una de las atenciones en un plano dónde el x corresponde al tiempo de permanencia y el eje y al tiempo en cuanto a hora. Podemos ver como se trazan las dos colas dado que la cola de no clientes es más lenta y recibe más usuarios. A la vez, podemos ver que es lineal en su crecimiento mientras que la de clientes se estanca, dado que cuando la cola es lo suficientemente grande los abandonos empiezan a ocurrir. Por último, podemos ver cómo ese \"estancamiento\" se produce más rápido (por lo tanto con tiempos de permanencia menores) en la nueva propuesta."
   ]
  },
  {
   "cell_type": "code",
   "execution_count": null,
   "metadata": {
    "collapsed": true
   },
   "outputs": [],
   "source": []
  },
  {
   "cell_type": "code",
   "execution_count": null,
   "metadata": {
    "collapsed": true
   },
   "outputs": [],
   "source": []
  },
  {
   "cell_type": "code",
   "execution_count": null,
   "metadata": {
    "collapsed": true
   },
   "outputs": [],
   "source": []
  }
 ],
 "metadata": {
  "anaconda-cloud": {},
  "kernelspec": {
   "display_name": "Python 3",
   "language": "python",
   "name": "python3"
  },
  "language_info": {
   "codemirror_mode": {
    "name": "ipython",
    "version": 3
   },
   "file_extension": ".py",
   "mimetype": "text/x-python",
   "name": "python",
   "nbconvert_exporter": "python",
   "pygments_lexer": "ipython3",
   "version": "3.5.3"
  }
 },
 "nbformat": 4,
 "nbformat_minor": 1
}
